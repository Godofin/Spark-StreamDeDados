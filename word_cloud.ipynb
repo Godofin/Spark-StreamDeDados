{
 "cells": [
  {
   "cell_type": "code",
   "execution_count": null,
   "metadata": {},
   "outputs": [],
   "source": [
    "import nltk\n",
    "nltk.download('stopwords')\n",
    "from nltk.corpus import stopword"
   ]
  },
  {
   "cell_type": "code",
   "execution_count": null,
   "metadata": {},
   "outputs": [],
   "source": [
    "from wordcloud import WordCloud\n",
    "import matplotlib.pyplot as plt\n",
    "from IPython import display\n",
    "import time"
   ]
  },
  {
   "cell_type": "code",
   "execution_count": null,
   "metadata": {},
   "outputs": [],
   "source": [
    "from pyspark.sql import SparkSession\n",
    "from pyspark.sql import functions as f\n",
    "\n",
    "spark = SparkSession.builder\\\n",
    "    .master('local[*]')\\\n",
    "    .appName('WordCloud')\\\n",
    "    .getOrCreate()"
   ]
  },
  {
   "cell_type": "code",
   "execution_count": null,
   "metadata": {},
   "outputs": [],
   "source": [
    "def trata_tweets(df):\n",
    "    words = df\\\n",
    "        .select(f.explode(f.split(f.lower('_c0'), \" \"))\\ \n",
    "        .alias(\"word\"))\\\n",
    "        .withColumn('word', f.regexp_replace('word', r'http\\S+', ''))\\ \n",
    "        .withColumn('word', f.regexp_replace('word', r'@\\w+', ''))\\ \n",
    "        .withColumn('word', f.regexp_replace('word', 'rt', ''))\\ \n",
    "        .na.replace('', None)\\ \n",
    "        .na.drop()\n",
    "        return words\n"
   ]
  },
  {
   "cell_type": "code",
   "execution_count": null,
   "metadata": {},
   "outputs": [],
   "source": [
    "stops = stopwords.words('portuguese')\n",
    "stops.append('futebol')\n",
    "plt.figure(figsize=(20, 10))\n",
    "\n",
    "while True:\n",
    "    try:\n",
    "        words = spark.read.csv('./csv', encoding='utf-8')\n",
    "        words = trata_tweets(words)\n",
    "        rows = words.collect()\n",
    "        all_words = ''\n",
    "        for row in rows:\n",
    "            all_words = all_words + ' ' + row['word']\n",
    "        \n",
    "        wordcloud = WordCloud(stopwords=stops,\n",
    "                     background_color=\"black\",\n",
    "                     width=1920,\n",
    "                     height=1080,\n",
    "                     max_words=100).generate(all_words)\n",
    "        plt.cla()\n",
    "        plt.axis('off')\n",
    "        plt.imshow(wordcloud)\n",
    "        display.display(plt.gfc())\n",
    "        display.clear_output(wait=True)\n",
    "        time.sleep(5)\n",
    "    except KeyboardInterrupt:\n",
    "        break"
   ]
  }
 ],
 "metadata": {
  "language_info": {
   "name": "python"
  },
  "orig_nbformat": 4
 },
 "nbformat": 4,
 "nbformat_minor": 2
}
